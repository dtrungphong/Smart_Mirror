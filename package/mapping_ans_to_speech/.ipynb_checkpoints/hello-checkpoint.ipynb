{
 "cells": [
  {
   "cell_type": "code",
   "execution_count": 4,
   "metadata": {},
   "outputs": [],
   "source": [
    "import pandas as pd\n",
    "import numpy as np\n",
    "from pydub import AudioSegment\n",
    "from pydub.playback import play\n",
    "import mapping_folder.mapping_key import mapping"
   ]
  },
  {
   "cell_type": "code",
   "execution_count": 35,
   "metadata": {},
   "outputs": [],
   "source": [
    "class ans_to_speech:\n",
    "    def __init__(self):\n",
    "        file_r1 = pd.read_csv('key_speech.csv').to_numpy()\n",
    "        self.key_speech = {}\n",
    "        for w in file_r1:\n",
    "            self.key_speech[w[0]]=w[1]\n",
    "        \n",
    "        file_r2 = open('name_speech.txt','r')\n",
    "        name_speech = file_r2.read().split(\"\\n\")\n",
    "    def return_ans_room(self,key_room):\n",
    "        \n",
    "    def return_speech(self,ans_room):\n",
    "        list_speech=[]\n",
    "        for ans in ans_room:\n",
    "            if ans==[]:\n",
    "                list_speech.append(['folder_record/'+self.key_speech[\"không hiểu\"]])\n",
    "                continue\n",
    "            list_ = []\n",
    "            for word in ans:\n",
    "                print(word)\n",
    "                list_.append('folder_record/'+self.key_speech[word])\n",
    "            list_speech.append(list_)\n",
    "        return list_speech\n",
    "    def play_sound(self,ans_room):\n",
    "        list_speech = self.return_speech(ans_room)\n",
    "        for sentences in list_speech:\n",
    "            sound = None\n",
    "            for file_sound in sentences:\n",
    "                if (sound==None):\n",
    "                    sound = AudioSegment.from_file(file_sound, format=\"m4a\")\n",
    "                    continue\n",
    "                sound += AudioSegment.from_file(file_sound, format=\"m4a\")\n",
    "            play(sound)"
   ]
  },
  {
   "cell_type": "code",
   "execution_count": 36,
   "metadata": {},
   "outputs": [
    {
     "name": "stdout",
     "output_type": "stream",
     "text": [
      "phòng\n",
      "a201\n",
      "nằm tại tầng\n",
      "2\n",
      "dãy nhà\n",
      "a\n",
      "tòa nhà học\n"
     ]
    }
   ],
   "source": [
    "x = ans_to_speech()\n",
    "x.play_sound([['phòng','a201','nằm tại tầng','2', 'dãy nhà','a', 'tòa nhà học']])"
   ]
  },
  {
   "cell_type": "code",
   "execution_count": null,
   "metadata": {},
   "outputs": [],
   "source": []
  }
 ],
 "metadata": {
  "kernelspec": {
   "display_name": "Python 3",
   "language": "python",
   "name": "python3"
  },
  "language_info": {
   "codemirror_mode": {
    "name": "ipython",
    "version": 3
   },
   "file_extension": ".py",
   "mimetype": "text/x-python",
   "name": "python",
   "nbconvert_exporter": "python",
   "pygments_lexer": "ipython3",
   "version": "3.7.4"
  }
 },
 "nbformat": 4,
 "nbformat_minor": 2
}
