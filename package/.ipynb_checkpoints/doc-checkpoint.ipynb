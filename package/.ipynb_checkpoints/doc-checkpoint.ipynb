{
 "cells": [
  {
   "cell_type": "markdown",
   "metadata": {},
   "source": [
    "# HƯỚNG DẪN"
   ]
  },
  {
   "cell_type": "markdown",
   "metadata": {},
   "source": [
    "## Giới thiệu\n",
    "- Kết nối từ key trong một câu hỏi đến câu trả lời (Phần 1)\n",
    "- Từ câu trả lời phát thành file âm thanh (Phần 2)"
   ]
  },
  {
   "cell_type": "markdown",
   "metadata": {},
   "source": [
    "## Phần 1\n",
    "### Mô tả:\n",
    "\n",
    "- Mô tả\n",
    "\n",
    "    - Mục đích: Từ một tập hợp key của câu hỏi ban đầu trả về câu trả lời\n",
    "    - Class nằm trong thư mục mapping_folder\n",
    "    - Các file liên quan:\n",
    "       + **mapping_key.py** : chứa thông tin về class\n",
    "       + **ans_room.csv** : chứa thông tin về câu trả lời liên quan đến các phòng theo ID của các phòng\n",
    "       + **key_name_other.csv**: bao gồm thông tin tên gọi của các phòng liên quan đến ID của các phòng đó\n",
    "       + **key_room.txt**: chứa thông tin về ID của các phòng hiện có\n",
    "       + **key_to_room.csv**: chứa thông tin về ID và tên phòng theo ID đó\n",
    "       + **name_other.txt**: chứa tên gọi của các phòng\n",
    "       + **target.csv**: chứa yêu cầu của người dùng kết nối ID\n",
    "            \n",
    "            \n",
    "            \n",
    "### Trong file **mapping_key.py** chứa các hàm:\n",
    "\n",
    "\n",
    "- Thông tin các hàm\n",
    "\n",
    "    - **adding_name_room**:\n",
    "        + Mục đích: bổ sung thêm các tên gọi khác của phòng\n",
    "        + Đầu vào: Gồm hai tham số. Tham số thứ nhất là tên gọi của phòng, tham số thứ 2 là ID của phòng\n",
    "        + Đầu ra: Không có\n",
    "    - **adding_target_room**:\n",
    "        + Mục đích: bổ sung thêm những yêu cầu của người dùng có thể hỏi liên quan đến mục đích\n",
    "        + Đầu vào: Gồm hai tham số. Tham số thứ nhất là yêu cầu mới, tham số thứ 2 là ID liên quan đến phòng xử  lý yêu cầu đó\n",
    "        + Đầu ra: Không có\n",
    "    - **is_room**:\n",
    "        + Mục đích: Kiểm tra xem liệu key đó có phải là phòng hay là yêu cầu\n",
    "        + Đầu vào: Key để kiểm tra xem liệu đó là phòng hay không\n",
    "        + Đầu ra: là phòng học hoặc \n",
    "    - **target_room**:\n",
    "        + Mục đích: Kiểm tra xem key thuộc theo yêu cầu nào và đưa về ID liên quan đến yêu cầu \n",
    "        + Đầu vào: Key chứa yêu cầu\n",
    "        + Đầu ra: ID của phòng xử lý yêu cầu\n",
    "    - **return_key**:\n",
    "        + Mục đích: Trả về tập câu trả lời liên quan đến câu hỏi\n",
    "        + Đầu vào: Tập key được lấy ra từ câu hỏi\n",
    "        + Đầu ra: Tập câu trả lời\n",
    "        \n",
    "## Demo\n",
    "- Hàm **return_key**"
   ]
  },
  {
   "cell_type": "code",
   "execution_count": 9,
   "metadata": {},
   "outputs": [
    {
     "data": {
      "text/plain": [
       "[['phòng', 'tài vụ', 'nằm tại tầng 1 dãy nhà a tòa nhà học'],\n",
       " ['phòng', 'hành chính', 'nằm tại tầng 1 dãy nhà a tòa nhà học']]"
      ]
     },
     "execution_count": 9,
     "metadata": {},
     "output_type": "execute_result"
    }
   ],
   "source": [
    "from mapping_key import mapping\n",
    "x = mapping()\n",
    "key = ['tài vụ','hành chính']\n",
    "x.return_key(key)"
   ]
  },
  {
   "cell_type": "markdown",
   "metadata": {},
   "source": [
    "## Phần 2\n",
    "### Mô tả:\n",
    "- Thông tin:\n",
    "\n",
    "    - Mục đích: Từ một tập hợp câu trả lời ban đầu trả về đường dẫn file âm thanh hoặc phát file âm thanh\n",
    "    - Class nằm trong thư mục mapping_ans_to_speech\n",
    "    - Các file liên quan:\n",
    "       + **ans_to_speech.py** : chứa thông tin về class\n",
    "       + **key_speech.csv** : chứa thông tin về câu trả lời kết đến file âm thanh\n",
    "       + **name_speech.txt**: chứa thông tin về các câu trả lời\n",
    "       + **folder_record**: thư mục chứa các file âm thanh\n",
    "       \n",
    "### Trong file **ans_to_speech.py** chứa các hàm:\n",
    "\n",
    "- Thông tin các hàm:\n",
    "    - **return_speech**:\n",
    "        + Mục đích: Trả về danh sách đường dẫn của câu trả lời\n",
    "        + Đầu vào: Tập các câu trả lời\n",
    "        + Đầu ra: Đường dẫn file âm thanh của các câu trả lời đó\n",
    "    - **play_sound_from_ans_room**:\n",
    "        + Mục đích: Phát file âm thanh từ danh sách câu trả lời\n",
    "        + Đầu vào: Tập các câu trả lời\n",
    "        + Đầu ra: Danh sách đường dẫn file âm thanh của các câu trả lời đó\n",
    "    - **play_sound_with_path**:\n",
    "        + Mục đích: Phát file âm thanh từ danh sách đường dẫn\n",
    "        + Đầu vào: Danh sách đường dẫn file âm thanh của các câu trả lời\n",
    "        + Đầu ra: Không có\n",
    "    - **return_ans**:\n",
    "        + Mục đích: Trả về danh sách đường dẫn đến các câu trả lời từ key của các câu hỏi\n",
    "        + Đầu vào: key được trích xuất ra từ câu hỏi\n",
    "        + Đầu ra: Danh sách đường dẫn đến các file âm thanh của câu trả lời\n",
    "\n",
    "## Demo\n",
    "- Hàm **return_key**"
   ]
  },
  {
   "cell_type": "code",
   "execution_count": null,
   "metadata": {},
   "outputs": [],
   "source": []
  },
  {
   "cell_type": "code",
   "execution_count": null,
   "metadata": {},
   "outputs": [],
   "source": []
  },
  {
   "cell_type": "code",
   "execution_count": 10,
   "metadata": {},
   "outputs": [
    {
     "name": "stdout",
     "output_type": "stream",
     "text": [
      "phòng\n",
      "đào tạo\n",
      "nằm tại tầng 1 dãy nhà a tòa nhà học\n"
     ]
    }
   ],
   "source": [
    "import sys\n",
    "sys.path.insert(1, './mapping_ans_to_speech')\n",
    "from ans_to_speech import answer_to_speech\n",
    "# import importlib\n",
    "k = answer_to_speech('./mapping_ans_to_speech/')\n",
    "key_ask = ['đào tạo','quan hệ công chúng']\n",
    "list_speech=k.return_ans(key_ask)\n",
    "k.play_sound_with_path(list_speech)"
   ]
  },
  {
   "cell_type": "code",
   "execution_count": null,
   "metadata": {},
   "outputs": [],
   "source": []
  },
  {
   "cell_type": "code",
   "execution_count": null,
   "metadata": {},
   "outputs": [],
   "source": []
  }
 ],
 "metadata": {
  "kernelspec": {
   "display_name": "Python 3",
   "language": "python",
   "name": "python3"
  },
  "language_info": {
   "codemirror_mode": {
    "name": "ipython",
    "version": 3
   },
   "file_extension": ".py",
   "mimetype": "text/x-python",
   "name": "python",
   "nbconvert_exporter": "python",
   "pygments_lexer": "ipython3",
   "version": "3.7.4"
  }
 },
 "nbformat": 4,
 "nbformat_minor": 2
}
